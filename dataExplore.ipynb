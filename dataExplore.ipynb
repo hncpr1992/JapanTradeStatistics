{
 "cells": [
  {
   "cell_type": "markdown",
   "metadata": {},
   "source": [
    "# Japan Trade Statistics\n",
    "In this notebook, I will focus on the exploration of data concerning Japan trade.\n",
    "I will compare the trend of trade volume in years and the difference among countries.\n",
    "\n",
    "The data comes from https://www.kaggle.com/zanjibar/japan-trade-statistics"
   ]
  },
  {
   "cell_type": "markdown",
   "metadata": {},
   "source": [
    "## Modules"
   ]
  },
  {
   "cell_type": "code",
   "execution_count": 63,
   "metadata": {
    "collapsed": true
   },
   "outputs": [],
   "source": [
    "import numpy as np\n",
    "import pandas as pd\n",
    "import matplotlib.pyplot as plt\n",
    "import seaborn as sns\n",
    "%matplotlib inline\n",
    "\n",
    "import os\n",
    "import sys"
   ]
  },
  {
   "cell_type": "markdown",
   "metadata": {},
   "source": [
    "## Data"
   ]
  },
  {
   "cell_type": "markdown",
   "metadata": {},
   "source": [
    "What data I have"
   ]
  },
  {
   "cell_type": "code",
   "execution_count": 5,
   "metadata": {
    "collapsed": false
   },
   "outputs": [
    {
     "data": {
      "text/plain": [
       "['country_eng.csv',\n",
       " 'custom.csv',\n",
       " 'hs2_eng.csv',\n",
       " 'hs4_eng.csv',\n",
       " 'hs6_eng.csv',\n",
       " 'hs9_eng.csv',\n",
       " 'year_1988_2015.csv',\n",
       " 'ym_custom_2016.csv',\n",
       " 'ym_custom_latest.csv']"
      ]
     },
     "execution_count": 5,
     "metadata": {},
     "output_type": "execute_result"
    }
   ],
   "source": [
    "sorted(os.listdir(\"data/\"))"
   ]
  },
  {
   "cell_type": "markdown",
   "metadata": {},
   "source": [
    "Some code book"
   ]
  },
  {
   "cell_type": "markdown",
   "metadata": {},
   "source": [
    "country_eng.csv"
   ]
  },
  {
   "cell_type": "code",
   "execution_count": 6,
   "metadata": {
    "collapsed": true
   },
   "outputs": [],
   "source": [
    "country = pd.read_csv(\"data/country_eng.csv\")"
   ]
  },
  {
   "cell_type": "code",
   "execution_count": 8,
   "metadata": {
    "collapsed": false
   },
   "outputs": [
    {
     "data": {
      "text/html": [
       "<div>\n",
       "<table border=\"1\" class=\"dataframe\">\n",
       "  <thead>\n",
       "    <tr style=\"text-align: right;\">\n",
       "      <th></th>\n",
       "      <th>Country</th>\n",
       "      <th>Country_name</th>\n",
       "      <th>Area</th>\n",
       "    </tr>\n",
       "  </thead>\n",
       "  <tbody>\n",
       "    <tr>\n",
       "      <th>0</th>\n",
       "      <td>103</td>\n",
       "      <td>Republic_of_Korea</td>\n",
       "      <td>Asia</td>\n",
       "    </tr>\n",
       "    <tr>\n",
       "      <th>1</th>\n",
       "      <td>104</td>\n",
       "      <td>North_Korea</td>\n",
       "      <td>Asia</td>\n",
       "    </tr>\n",
       "  </tbody>\n",
       "</table>\n",
       "</div>"
      ],
      "text/plain": [
       "   Country       Country_name  Area\n",
       "0      103  Republic_of_Korea  Asia\n",
       "1      104        North_Korea  Asia"
      ]
     },
     "execution_count": 8,
     "metadata": {},
     "output_type": "execute_result"
    }
   ],
   "source": [
    "country.head(2)"
   ]
  },
  {
   "cell_type": "markdown",
   "metadata": {},
   "source": [
    "It is dictionary to map the country code to the English name and area"
   ]
  },
  {
   "cell_type": "markdown",
   "metadata": {},
   "source": [
    "hs2_eng.csv"
   ]
  },
  {
   "cell_type": "code",
   "execution_count": 17,
   "metadata": {
    "collapsed": true
   },
   "outputs": [],
   "source": [
    "hs2_eng = pd.read_csv(\"data/hs2_eng.csv\")"
   ]
  },
  {
   "cell_type": "code",
   "execution_count": 18,
   "metadata": {
    "collapsed": false
   },
   "outputs": [
    {
     "data": {
      "text/html": [
       "<div>\n",
       "<table border=\"1\" class=\"dataframe\">\n",
       "  <thead>\n",
       "    <tr style=\"text-align: right;\">\n",
       "      <th></th>\n",
       "      <th>hs2</th>\n",
       "      <th>hs2_name</th>\n",
       "    </tr>\n",
       "  </thead>\n",
       "  <tbody>\n",
       "    <tr>\n",
       "      <th>92</th>\n",
       "      <td>93</td>\n",
       "      <td>Arms and ammunition; parts and accessories the...</td>\n",
       "    </tr>\n",
       "    <tr>\n",
       "      <th>93</th>\n",
       "      <td>94</td>\n",
       "      <td>Furniture; bedding  mattresses  mattress suppo...</td>\n",
       "    </tr>\n",
       "    <tr>\n",
       "      <th>94</th>\n",
       "      <td>95</td>\n",
       "      <td>Toys  games and sports requisites; parts and a...</td>\n",
       "    </tr>\n",
       "    <tr>\n",
       "      <th>95</th>\n",
       "      <td>96</td>\n",
       "      <td>Miscellaneous manufactured articles.</td>\n",
       "    </tr>\n",
       "    <tr>\n",
       "      <th>96</th>\n",
       "      <td>97</td>\n",
       "      <td>Works of art  collectors' pieces and antiques.</td>\n",
       "    </tr>\n",
       "  </tbody>\n",
       "</table>\n",
       "</div>"
      ],
      "text/plain": [
       "    hs2                                           hs2_name\n",
       "92   93  Arms and ammunition; parts and accessories the...\n",
       "93   94  Furniture; bedding  mattresses  mattress suppo...\n",
       "94   95  Toys  games and sports requisites; parts and a...\n",
       "95   96               Miscellaneous manufactured articles.\n",
       "96   97     Works of art  collectors' pieces and antiques."
      ]
     },
     "execution_count": 18,
     "metadata": {},
     "output_type": "execute_result"
    }
   ],
   "source": [
    "hs2_eng.tail()"
   ]
  },
  {
   "cell_type": "markdown",
   "metadata": {},
   "source": [
    "01-05  Animal & Animal Products<br>\n",
    "06-15  Vegetable Products<br>\n",
    "16-24  Foodstuffs<br>\n",
    "25-27  Mineral Products<br>\n",
    "28-38  Chemicals & Allied Industries<br>\n",
    "39-40  Plastics / Rubbers<br>\n",
    "41-43  Raw Hides, Skins, Leather, & Furs<br>\n",
    "44-49  Wood & Wood Products<br>\n",
    "50-63  Textiles<br>\n",
    "64-67  Footwear / Headgear<br>\n",
    "68-71  Stone / Glass<br>\n",
    "72-83  Metals<br>\n",
    "84-85  Machinery / Electrical<br>\n",
    "86-89  Transportation<br>\n",
    "90-97  Miscellaneous<br>\n",
    "\n",
    "http://www.foreign-trade.com/reference/hscode.htm"
   ]
  },
  {
   "cell_type": "markdown",
   "metadata": {},
   "source": [
    "hs4_eng.csv"
   ]
  },
  {
   "cell_type": "code",
   "execution_count": 9,
   "metadata": {
    "collapsed": true
   },
   "outputs": [],
   "source": [
    "hs4_eng = pd.read_csv(\"data/hs4_eng.csv\")"
   ]
  },
  {
   "cell_type": "code",
   "execution_count": 14,
   "metadata": {
    "collapsed": false
   },
   "outputs": [
    {
     "data": {
      "text/html": [
       "<div>\n",
       "<table border=\"1\" class=\"dataframe\">\n",
       "  <thead>\n",
       "    <tr style=\"text-align: right;\">\n",
       "      <th></th>\n",
       "      <th>hs4</th>\n",
       "      <th>hs4_name</th>\n",
       "    </tr>\n",
       "  </thead>\n",
       "  <tbody>\n",
       "    <tr>\n",
       "      <th>1219</th>\n",
       "      <td>9702</td>\n",
       "      <td>Original_engravings__prints_and_lithographs</td>\n",
       "    </tr>\n",
       "    <tr>\n",
       "      <th>1220</th>\n",
       "      <td>9703</td>\n",
       "      <td>Original_sculptures_and_statuary__in_any_material</td>\n",
       "    </tr>\n",
       "    <tr>\n",
       "      <th>1221</th>\n",
       "      <td>9704</td>\n",
       "      <td>Postage_or_revenue_stamps__stamp-postmarks__fi...</td>\n",
       "    </tr>\n",
       "    <tr>\n",
       "      <th>1222</th>\n",
       "      <td>9705</td>\n",
       "      <td>Collections_and_collectors'_pieces_of_zoologic...</td>\n",
       "    </tr>\n",
       "    <tr>\n",
       "      <th>1223</th>\n",
       "      <td>9706</td>\n",
       "      <td>Antiques_of_an_age_exceeding_one_hundred_years</td>\n",
       "    </tr>\n",
       "  </tbody>\n",
       "</table>\n",
       "</div>"
      ],
      "text/plain": [
       "       hs4                                           hs4_name\n",
       "1219  9702        Original_engravings__prints_and_lithographs\n",
       "1220  9703  Original_sculptures_and_statuary__in_any_material\n",
       "1221  9704  Postage_or_revenue_stamps__stamp-postmarks__fi...\n",
       "1222  9705  Collections_and_collectors'_pieces_of_zoologic...\n",
       "1223  9706     Antiques_of_an_age_exceeding_one_hundred_years"
      ]
     },
     "execution_count": 14,
     "metadata": {},
     "output_type": "execute_result"
    }
   ],
   "source": [
    "hs4_eng.tail(5)"
   ]
  },
  {
   "cell_type": "markdown",
   "metadata": {},
   "source": [
    "the hs4_eng is a sub category of hs2<br>\n",
    "I will stick to hs2_eng first"
   ]
  },
  {
   "cell_type": "markdown",
   "metadata": {},
   "source": [
    "### Some real trade data"
   ]
  },
  {
   "cell_type": "markdown",
   "metadata": {},
   "source": [
    "I will first focus on year_1988_2015.csv"
   ]
  },
  {
   "cell_type": "code",
   "execution_count": 20,
   "metadata": {
    "collapsed": true
   },
   "outputs": [],
   "source": [
    "year_1988_2015 = pd.read_csv(\"data/year_1988_2015.csv\")"
   ]
  },
  {
   "cell_type": "markdown",
   "metadata": {},
   "source": [
    "Size, shape, type, features, missing..."
   ]
  },
  {
   "cell_type": "code",
   "execution_count": 24,
   "metadata": {
    "collapsed": false
   },
   "outputs": [
    {
     "data": {
      "text/html": [
       "<div>\n",
       "<table border=\"1\" class=\"dataframe\">\n",
       "  <thead>\n",
       "    <tr style=\"text-align: right;\">\n",
       "      <th></th>\n",
       "      <th>exp_imp</th>\n",
       "      <th>Year</th>\n",
       "      <th>Country</th>\n",
       "      <th>Unit1</th>\n",
       "      <th>Unit2</th>\n",
       "      <th>QY1</th>\n",
       "      <th>QY2</th>\n",
       "      <th>VY</th>\n",
       "      <th>hs2</th>\n",
       "      <th>hs4</th>\n",
       "      <th>hs6</th>\n",
       "      <th>hs9</th>\n",
       "    </tr>\n",
       "  </thead>\n",
       "  <tbody>\n",
       "    <tr>\n",
       "      <th>0</th>\n",
       "      <td>1</td>\n",
       "      <td>1988</td>\n",
       "      <td>210</td>\n",
       "      <td>NaN</td>\n",
       "      <td>NO</td>\n",
       "      <td>0</td>\n",
       "      <td>3</td>\n",
       "      <td>25706</td>\n",
       "      <td>1</td>\n",
       "      <td>101</td>\n",
       "      <td>10111</td>\n",
       "      <td>10111000</td>\n",
       "    </tr>\n",
       "    <tr>\n",
       "      <th>1</th>\n",
       "      <td>1</td>\n",
       "      <td>1988</td>\n",
       "      <td>104</td>\n",
       "      <td>NaN</td>\n",
       "      <td>NO</td>\n",
       "      <td>0</td>\n",
       "      <td>4</td>\n",
       "      <td>5600</td>\n",
       "      <td>1</td>\n",
       "      <td>101</td>\n",
       "      <td>10119</td>\n",
       "      <td>10119000</td>\n",
       "    </tr>\n",
       "    <tr>\n",
       "      <th>2</th>\n",
       "      <td>1</td>\n",
       "      <td>1988</td>\n",
       "      <td>106</td>\n",
       "      <td>NaN</td>\n",
       "      <td>NO</td>\n",
       "      <td>0</td>\n",
       "      <td>6</td>\n",
       "      <td>9600</td>\n",
       "      <td>1</td>\n",
       "      <td>101</td>\n",
       "      <td>10119</td>\n",
       "      <td>10119000</td>\n",
       "    </tr>\n",
       "    <tr>\n",
       "      <th>3</th>\n",
       "      <td>1</td>\n",
       "      <td>1988</td>\n",
       "      <td>105</td>\n",
       "      <td>NaN</td>\n",
       "      <td>NO</td>\n",
       "      <td>0</td>\n",
       "      <td>1</td>\n",
       "      <td>1230</td>\n",
       "      <td>1</td>\n",
       "      <td>102</td>\n",
       "      <td>10290</td>\n",
       "      <td>10290000</td>\n",
       "    </tr>\n",
       "    <tr>\n",
       "      <th>4</th>\n",
       "      <td>1</td>\n",
       "      <td>1988</td>\n",
       "      <td>304</td>\n",
       "      <td>NaN</td>\n",
       "      <td>NO</td>\n",
       "      <td>0</td>\n",
       "      <td>2</td>\n",
       "      <td>3500</td>\n",
       "      <td>1</td>\n",
       "      <td>102</td>\n",
       "      <td>10290</td>\n",
       "      <td>10290000</td>\n",
       "    </tr>\n",
       "  </tbody>\n",
       "</table>\n",
       "</div>"
      ],
      "text/plain": [
       "   exp_imp  Year  Country Unit1 Unit2  QY1  QY2     VY  hs2  hs4    hs6  \\\n",
       "0        1  1988      210   NaN    NO    0    3  25706    1  101  10111   \n",
       "1        1  1988      104   NaN    NO    0    4   5600    1  101  10119   \n",
       "2        1  1988      106   NaN    NO    0    6   9600    1  101  10119   \n",
       "3        1  1988      105   NaN    NO    0    1   1230    1  102  10290   \n",
       "4        1  1988      304   NaN    NO    0    2   3500    1  102  10290   \n",
       "\n",
       "        hs9  \n",
       "0  10111000  \n",
       "1  10119000  \n",
       "2  10119000  \n",
       "3  10290000  \n",
       "4  10290000  "
      ]
     },
     "execution_count": 24,
     "metadata": {},
     "output_type": "execute_result"
    }
   ],
   "source": [
    "year_1988_2015.head()"
   ]
  },
  {
   "cell_type": "code",
   "execution_count": 23,
   "metadata": {
    "collapsed": false
   },
   "outputs": [
    {
     "name": "stdout",
     "output_type": "stream",
     "text": [
      "<class 'pandas.core.frame.DataFrame'>\n",
      "RangeIndex: 6601602 entries, 0 to 6601601\n",
      "Data columns (total 12 columns):\n",
      "exp_imp    int64\n",
      "Year       int64\n",
      "Country    int64\n",
      "Unit1      object\n",
      "Unit2      object\n",
      "QY1        int64\n",
      "QY2        int64\n",
      "VY         int64\n",
      "hs2        int64\n",
      "hs4        int64\n",
      "hs6        int64\n",
      "hs9        int64\n",
      "dtypes: int64(10), object(2)\n",
      "memory usage: 604.4+ MB\n"
     ]
    }
   ],
   "source": [
    "year_1988_2015.info()"
   ]
  },
  {
   "cell_type": "markdown",
   "metadata": {},
   "source": [
    "Which are useful?"
   ]
  },
  {
   "cell_type": "markdown",
   "metadata": {},
   "source": [
    "Year<br>\n",
    "Country<br>\n",
    "VY is a value of goods which was traded<br>\n",
    "hs2 is a top category which was categorized hierarchically by HS code.<br>\n",
    "hs4 is a second categorization as well as hs2<br>\n",
    "hs6 is a third one<br>"
   ]
  },
  {
   "cell_type": "markdown",
   "metadata": {},
   "source": [
    "Filter features "
   ]
  },
  {
   "cell_type": "code",
   "execution_count": 26,
   "metadata": {
    "collapsed": true
   },
   "outputs": [],
   "source": [
    "columns = [\"Year\", \"Country\", \"VY\", \"hs2\", \"hs4\"]\n",
    "year_data = year_1988_2015[columns]"
   ]
  },
  {
   "cell_type": "code",
   "execution_count": 27,
   "metadata": {
    "collapsed": false
   },
   "outputs": [
    {
     "data": {
      "text/html": [
       "<div>\n",
       "<table border=\"1\" class=\"dataframe\">\n",
       "  <thead>\n",
       "    <tr style=\"text-align: right;\">\n",
       "      <th></th>\n",
       "      <th>Year</th>\n",
       "      <th>Country</th>\n",
       "      <th>VY</th>\n",
       "      <th>hs2</th>\n",
       "      <th>hs4</th>\n",
       "    </tr>\n",
       "  </thead>\n",
       "  <tbody>\n",
       "    <tr>\n",
       "      <th>0</th>\n",
       "      <td>1988</td>\n",
       "      <td>210</td>\n",
       "      <td>25706</td>\n",
       "      <td>1</td>\n",
       "      <td>101</td>\n",
       "    </tr>\n",
       "    <tr>\n",
       "      <th>1</th>\n",
       "      <td>1988</td>\n",
       "      <td>104</td>\n",
       "      <td>5600</td>\n",
       "      <td>1</td>\n",
       "      <td>101</td>\n",
       "    </tr>\n",
       "  </tbody>\n",
       "</table>\n",
       "</div>"
      ],
      "text/plain": [
       "   Year  Country     VY  hs2  hs4\n",
       "0  1988      210  25706    1  101\n",
       "1  1988      104   5600    1  101"
      ]
     },
     "execution_count": 27,
     "metadata": {},
     "output_type": "execute_result"
    }
   ],
   "source": [
    "year_data.head(2)"
   ]
  },
  {
   "cell_type": "markdown",
   "metadata": {},
   "source": [
    "Then we can start to explore based on the year_data"
   ]
  },
  {
   "cell_type": "markdown",
   "metadata": {},
   "source": [
    "## Exploration"
   ]
  },
  {
   "cell_type": "markdown",
   "metadata": {},
   "source": [
    "### Quetions"
   ]
  },
  {
   "cell_type": "markdown",
   "metadata": {},
   "source": [
    "1.Trend of total # of trade <br>\n",
    "2.Does Japan trade more with Asia or other continents<br>\n",
    "3.What is the structure of trading, which good dominate, is that changing?<br>\n",
    "4.Difference when trade with different continents<br>\n",
    "\n",
    "I will try to visualize and answer the four questions above "
   ]
  },
  {
   "cell_type": "markdown",
   "metadata": {},
   "source": [
    "#### 1.Trend of total # of trade "
   ]
  },
  {
   "cell_type": "code",
   "execution_count": 41,
   "metadata": {
    "collapsed": false
   },
   "outputs": [],
   "source": [
    "year_sum = year_data.groupby([\"Year\"])[\"VY\"].sum()\n",
    "year_sum = year_sum.reset_index()"
   ]
  },
  {
   "cell_type": "code",
   "execution_count": 75,
   "metadata": {
    "collapsed": false,
    "scrolled": false
   },
   "outputs": [
    {
     "data": {
      "image/png": "[encoded data removed]",
      "text/plain": [
       "<matplotlib.figure.Figure at 0x7f1545bdc588>"
      ]
     },
     "metadata": {},
     "output_type": "display_data"
    }
   ],
   "source": [
    "# Line plot\n",
    "fig, ax = plt.subplots(figsize = [10,6])\n",
    "\n",
    "ax.plot(year_sum[\"Year\"], year_sum[\"VY\"], zorder=10);\n",
    "ax.grid(True, zorder=5)\n",
    "plt.xlim([year_sum.ix[0,\"Year\"], year_sum.ix[year_sum.shape[0]-1,\"Year\"]]);\n",
    "plt.title(\"Trade trend from 1998 to 2016\");"
   ]
  },
  {
   "cell_type": "markdown",
   "metadata": {},
   "source": [
    "From this graph, we see a upper trend of trade of Japan. However, an obvious downturn happens at 2008 because the worldwide financial crisis. Japan start to revive from the crisis quickly in about an year and spend about 5 years to reach the previous peak of trade value "
   ]
  },
  {
   "cell_type": "markdown",
   "metadata": {},
   "source": [
    "### 2.Does Japan trade more with Asia or other continents"
   ]
  },
  {
   "cell_type": "markdown",
   "metadata": {},
   "source": [
    "Then, we start to have a look at the trading preference of Japan to different continents"
   ]
  },
  {
   "cell_type": "markdown",
   "metadata": {},
   "source": [
    "We need to build a dictionary first to map the country to coninent"
   ]
  },
  {
   "cell_type": "code",
   "execution_count": 78,
   "metadata": {
    "collapsed": false
   },
   "outputs": [
    {
     "data": {
      "text/html": [
       "<div>\n",
       "<table border=\"1\" class=\"dataframe\">\n",
       "  <thead>\n",
       "    <tr style=\"text-align: right;\">\n",
       "      <th></th>\n",
       "      <th>Country</th>\n",
       "      <th>Country_name</th>\n",
       "      <th>Area</th>\n",
       "    </tr>\n",
       "  </thead>\n",
       "  <tbody>\n",
       "    <tr>\n",
       "      <th>0</th>\n",
       "      <td>103</td>\n",
       "      <td>Republic_of_Korea</td>\n",
       "      <td>Asia</td>\n",
       "    </tr>\n",
       "    <tr>\n",
       "      <th>1</th>\n",
       "      <td>104</td>\n",
       "      <td>North_Korea</td>\n",
       "      <td>Asia</td>\n",
       "    </tr>\n",
       "  </tbody>\n",
       "</table>\n",
       "</div>"
      ],
      "text/plain": [
       "   Country       Country_name  Area\n",
       "0      103  Republic_of_Korea  Asia\n",
       "1      104        North_Korea  Asia"
      ]
     },
     "execution_count": 78,
     "metadata": {},
     "output_type": "execute_result"
    }
   ],
   "source": [
    "country.head(2)"
   ]
  },
  {
   "cell_type": "code",
   "execution_count": null,
   "metadata": {
    "collapsed": true
   },
   "outputs": [],
   "source": [
    "# create country map\n",
    "country_map = pd.Series(country[\"Area\"]) \n",
    "country_map.index=country[\"Country\"]\n",
    "\n",
    "# create area data\n",
    "year_data[\"Area\"] = country_map[year_data[\"Country\"]].tolist()\n",
    "targetarea = [x not in [\"Special_Area\", \"Integrated_Hozei_Ar_Special_Area\"] for x in year_data[\"Area\"]]\n",
    "area_data = year_data.ix[targetarea,:] \\\n",
    "            .groupby([\"Year\", \"Area\"])[\"VY\"].sum()"
   ]
  },
  {
   "cell_type": "code",
   "execution_count": 129,
   "metadata": {
    "collapsed": false
   },
   "outputs": [
    {
     "data": {
      "text/plain": [
       "Year  Area                          \n",
       "1988  Africa                             1327875423\n",
       "      Asia                              17326845717\n",
       "      Central_and_East_Europe_Russia      891789164\n",
       "      Middle_East                        3450812443\n",
       "      Middle_and_South_America           2256697109\n",
       "      North_America                     18780982518\n",
       "      Oceania                            2694989957\n",
       "      Western_Europe                    11119006295\n",
       "1989  Africa                             1343302277\n",
       "      Asia                              20230236047\n",
       "      Central_and_East_Europe_Russia      982304205\n",
       "      Middle_East                        4126455094\n",
       "      Middle_and_South_America           2507333163\n",
       "      North_America                     21589083910\n",
       "      Oceania                            3319288671\n",
       "      Western_Europe                    12617907260\n",
       "1990  Africa                             1389147431\n",
       "      Asia                              22617330566\n",
       "      Central_and_East_Europe_Russia     1006852184\n",
       "      Middle_East                        5671964048\n",
       "      Middle_and_South_America           2902511756\n",
       "      North_America                     22857909978\n",
       "      Oceania                            3434336585\n",
       "      Western_Europe                    15370248619\n",
       "1991  Africa                             1334076383\n",
       "      Asia                              24153329834\n",
       "      Central_and_East_Europe_Russia      890401372\n",
       "      Middle_East                        5414410005\n",
       "      Middle_and_South_America           3046982281\n",
       "      North_America                     21547698183\n",
       "                                           ...     \n",
       "2012  Central_and_East_Europe_Russia     3709284120\n",
       "      Middle_East                       15804018551\n",
       "      Middle_and_South_America           6255938339\n",
       "      North_America                     19110246472\n",
       "      Oceania                            6737476106\n",
       "      Western_Europe                    13929991727\n",
       "2013  Africa                             2979341788\n",
       "      Asia                              73838083580\n",
       "      Central_and_East_Europe_Russia     4620512464\n",
       "      Middle_East                       18145275559\n",
       "      Middle_and_South_America           6852765746\n",
       "      North_America                     21769136618\n",
       "      Oceania                            7404916593\n",
       "      Western_Europe                    15406493428\n",
       "2014  Africa                             2889817237\n",
       "      Asia                              78136305595\n",
       "      Central_and_East_Europe_Russia     4902836551\n",
       "      Middle_East                       18813491324\n",
       "      Middle_and_South_America           6758738243\n",
       "      North_America                     23236097603\n",
       "      Oceania                            7664743667\n",
       "      Western_Europe                    16599839607\n",
       "2015  Africa                             2430789667\n",
       "      Asia                              78687174601\n",
       "      Central_and_East_Europe_Russia     3939407094\n",
       "      Middle_East                       12738358916\n",
       "      Middle_and_South_America           6449579480\n",
       "      North_America                     25338786172\n",
       "      Oceania                            6986010881\n",
       "      Western_Europe                    17449139369\n",
       "Name: VY, dtype: int64"
      ]
     },
     "execution_count": 129,
     "metadata": {},
     "output_type": "execute_result"
    }
   ],
   "source": [
    "# plot area comparisons"
   ]
  },
  {
   "cell_type": "code",
   "execution_count": null,
   "metadata": {
    "collapsed": true
   },
   "outputs": [],
   "source": []
  },
  {
   "cell_type": "code",
   "execution_count": null,
   "metadata": {
    "collapsed": true
   },
   "outputs": [],
   "source": []
  },
  {
   "cell_type": "code",
   "execution_count": null,
   "metadata": {
    "collapsed": true
   },
   "outputs": [],
   "source": []
  },
  {
   "cell_type": "code",
   "execution_count": null,
   "metadata": {
    "collapsed": true
   },
   "outputs": [],
   "source": []
  },
  {
   "cell_type": "code",
   "execution_count": null,
   "metadata": {
    "collapsed": true
   },
   "outputs": [],
   "source": []
  }
 ],
 "metadata": {
  "kernelspec": {
   "display_name": "Python [Root]",
   "language": "python",
   "name": "Python [Root]"
  },
  "language_info": {
   "codemirror_mode": {
    "name": "ipython",
    "version": 3
   },
   "file_extension": ".py",
   "mimetype": "text/x-python",
   "name": "python",
   "nbconvert_exporter": "python",
   "pygments_lexer": "ipython3",
   "version": "3.5.2"
  }
 },
 "nbformat": 4,
 "nbformat_minor": 0
}
